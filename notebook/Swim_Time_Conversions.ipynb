{
 "cells": [
  {
   "cell_type": "code",
   "execution_count": 11,
   "metadata": {
    "colab": {
     "base_uri": "https://localhost:8080/",
     "height": 400
    },
    "colab_type": "code",
    "id": "6wog23r6-UKb",
    "outputId": "ce4c7559-5021-4d84-d9e7-1f0b7e152990"
   },
   "outputs": [
    {
     "data": {
      "text/html": [
       "<div>\n",
       "<style scoped>\n",
       "    .dataframe tbody tr th:only-of-type {\n",
       "        vertical-align: middle;\n",
       "    }\n",
       "\n",
       "    .dataframe tbody tr th {\n",
       "        vertical-align: top;\n",
       "    }\n",
       "\n",
       "    .dataframe thead th {\n",
       "        text-align: right;\n",
       "    }\n",
       "</style>\n",
       "<table border=\"1\" class=\"dataframe\">\n",
       "  <thead>\n",
       "    <tr style=\"text-align: right;\">\n",
       "      <th></th>\n",
       "      <th>result_rank</th>\n",
       "      <th>full_name</th>\n",
       "      <th>distance</th>\n",
       "      <th>time_id</th>\n",
       "      <th>event_desc</th>\n",
       "      <th>swimmer_age</th>\n",
       "      <th>swim_time_formatted</th>\n",
       "      <th>alt_adj_swim_time_formatted</th>\n",
       "      <th>standard_name</th>\n",
       "      <th>meet_name</th>\n",
       "      <th>swim_date</th>\n",
       "      <th>club_name</th>\n",
       "      <th>lsc_id</th>\n",
       "      <th>foreign_yesno</th>\n",
       "      <th>hytek_power_points</th>\n",
       "      <th>event_id</th>\n",
       "      <th>gender</th>\n",
       "    </tr>\n",
       "  </thead>\n",
       "  <tbody>\n",
       "    <tr>\n",
       "      <th>0</th>\n",
       "      <td>1</td>\n",
       "      <td>Dressel, Caeleb</td>\n",
       "      <td>100</td>\n",
       "      <td>149090949</td>\n",
       "      <td>100 FL LCM</td>\n",
       "      <td>22</td>\n",
       "      <td>49.5</td>\n",
       "      <td>49.5</td>\n",
       "      <td>2020 Olympic Trials</td>\n",
       "      <td>2019 World Champs</td>\n",
       "      <td>7/26/2019</td>\n",
       "      <td>Unattached</td>\n",
       "      <td>FL</td>\n",
       "      <td>NaN</td>\n",
       "      <td>1125</td>\n",
       "      <td>72</td>\n",
       "      <td>m</td>\n",
       "    </tr>\n",
       "    <tr>\n",
       "      <th>1</th>\n",
       "      <td>2</td>\n",
       "      <td>Schooling, Joe</td>\n",
       "      <td>100</td>\n",
       "      <td>110533250</td>\n",
       "      <td>100 FL LCM</td>\n",
       "      <td>21</td>\n",
       "      <td>50.39</td>\n",
       "      <td>50.39</td>\n",
       "      <td>2019 Summer Nationals (LCM)</td>\n",
       "      <td>2016 Olympic Games</td>\n",
       "      <td>8/12/2016</td>\n",
       "      <td>Unattached</td>\n",
       "      <td>ST</td>\n",
       "      <td>Yes</td>\n",
       "      <td>1083</td>\n",
       "      <td>72</td>\n",
       "      <td>m</td>\n",
       "    </tr>\n",
       "    <tr>\n",
       "      <th>2</th>\n",
       "      <td>3</td>\n",
       "      <td>Phelps, Michael</td>\n",
       "      <td>100</td>\n",
       "      <td>99519625</td>\n",
       "      <td>100 FL LCM</td>\n",
       "      <td>30</td>\n",
       "      <td>50.45</td>\n",
       "      <td>50.45</td>\n",
       "      <td>2020 Olympic Trials</td>\n",
       "      <td>2015 Summer Nationals</td>\n",
       "      <td>8/8/2015</td>\n",
       "      <td>North Baltimore Aquatic Club</td>\n",
       "      <td>MD</td>\n",
       "      <td>NaN</td>\n",
       "      <td>1080</td>\n",
       "      <td>72</td>\n",
       "      <td>m</td>\n",
       "    </tr>\n",
       "    <tr>\n",
       "      <th>3</th>\n",
       "      <td>4</td>\n",
       "      <td>Rooney, Maxime</td>\n",
       "      <td>100</td>\n",
       "      <td>143734453</td>\n",
       "      <td>100 FL LCM</td>\n",
       "      <td>21</td>\n",
       "      <td>50.68</td>\n",
       "      <td>50.68</td>\n",
       "      <td>2020 Olympic Trials</td>\n",
       "      <td>2019 Summer Nationals</td>\n",
       "      <td>8/2/2019</td>\n",
       "      <td>Pleasanton Seahawks</td>\n",
       "      <td>PC</td>\n",
       "      <td>NaN</td>\n",
       "      <td>1069</td>\n",
       "      <td>72</td>\n",
       "      <td>m</td>\n",
       "    </tr>\n",
       "    <tr>\n",
       "      <th>4</th>\n",
       "      <td>5</td>\n",
       "      <td>Minakov, Andrei</td>\n",
       "      <td>100</td>\n",
       "      <td>149090954</td>\n",
       "      <td>100 FL LCM</td>\n",
       "      <td>17</td>\n",
       "      <td>50.83</td>\n",
       "      <td>50.83</td>\n",
       "      <td>2020 Olympic Trials</td>\n",
       "      <td>2019 World Champs</td>\n",
       "      <td>7/27/2019</td>\n",
       "      <td>Unattached</td>\n",
       "      <td>PC</td>\n",
       "      <td>Yes</td>\n",
       "      <td>1077</td>\n",
       "      <td>72</td>\n",
       "      <td>m</td>\n",
       "    </tr>\n",
       "  </tbody>\n",
       "</table>\n",
       "</div>"
      ],
      "text/plain": [
       "   result_rank        full_name  distance    time_id  event_desc  swimmer_age  \\\n",
       "0            1  Dressel, Caeleb       100  149090949  100 FL LCM           22   \n",
       "1            2   Schooling, Joe       100  110533250  100 FL LCM           21   \n",
       "2            3  Phelps, Michael       100   99519625  100 FL LCM           30   \n",
       "3            4   Rooney, Maxime       100  143734453  100 FL LCM           21   \n",
       "4            5  Minakov, Andrei       100  149090954  100 FL LCM           17   \n",
       "\n",
       "  swim_time_formatted alt_adj_swim_time_formatted  \\\n",
       "0                49.5                        49.5   \n",
       "1               50.39                       50.39   \n",
       "2               50.45                       50.45   \n",
       "3               50.68                       50.68   \n",
       "4               50.83                       50.83   \n",
       "\n",
       "                 standard_name              meet_name  swim_date  \\\n",
       "0          2020 Olympic Trials      2019 World Champs  7/26/2019   \n",
       "1  2019 Summer Nationals (LCM)     2016 Olympic Games  8/12/2016   \n",
       "2          2020 Olympic Trials  2015 Summer Nationals   8/8/2015   \n",
       "3          2020 Olympic Trials  2019 Summer Nationals   8/2/2019   \n",
       "4          2020 Olympic Trials      2019 World Champs  7/27/2019   \n",
       "\n",
       "                      club_name lsc_id foreign_yesno hytek_power_points  \\\n",
       "0                    Unattached     FL           NaN               1125   \n",
       "1                    Unattached     ST           Yes               1083   \n",
       "2  North Baltimore Aquatic Club     MD           NaN               1080   \n",
       "3           Pleasanton Seahawks     PC           NaN               1069   \n",
       "4                    Unattached     PC           Yes               1077   \n",
       "\n",
       "  event_id gender  \n",
       "0       72      m  \n",
       "1       72      m  \n",
       "2       72      m  \n",
       "3       72      m  \n",
       "4       72      m  "
      ]
     },
     "execution_count": 11,
     "metadata": {},
     "output_type": "execute_result"
    }
   ],
   "source": [
    "import pandas as pd\n",
    "\n",
    "# url = \"https://raw.githubusercontent.com/accarter/time-predictor/master/top_times.csv\"\n",
    "url = \"../top_times.csv\"\n",
    "\n",
    "dtype = {col: int if col in int_cols else str for col in columns}\n",
    "\n",
    "top_times = pd.read_csv(url, sep=\"\\t\")\n",
    "top_times.head()"
   ]
  },
  {
   "cell_type": "code",
   "execution_count": 3,
   "metadata": {
    "colab": {
     "base_uri": "https://localhost:8080/",
     "height": 366
    },
    "colab_type": "code",
    "id": "sKevbbca-UKj",
    "outputId": "8a7bcdbe-5886-4218-f6c9-a0e9192bba06"
   },
   "outputs": [
    {
     "ename": "NameError",
     "evalue": "name 'top_times' is not defined",
     "output_type": "error",
     "traceback": [
      "\u001b[0;31m---------------------------------------------------------------------------\u001b[0m",
      "\u001b[0;31mNameError\u001b[0m                                 Traceback (most recent call last)",
      "\u001b[0;32m<ipython-input-3-0dde323c7edf>\u001b[0m in \u001b[0;36m<module>\u001b[0;34m\u001b[0m\n\u001b[0;32m----> 1\u001b[0;31m \u001b[0mtop_times_uniq_names\u001b[0m \u001b[0;34m=\u001b[0m \u001b[0mtop_times\u001b[0m\u001b[0;34m.\u001b[0m\u001b[0mdrop_duplicates\u001b[0m\u001b[0;34m(\u001b[0m\u001b[0msubset\u001b[0m\u001b[0;34m=\u001b[0m\u001b[0;34m[\u001b[0m\u001b[0;34m\"full_name\"\u001b[0m\u001b[0;34m,\u001b[0m \u001b[0;34m\"event_desc\"\u001b[0m\u001b[0;34m]\u001b[0m\u001b[0;34m)\u001b[0m\u001b[0;34m\u001b[0m\u001b[0;34m\u001b[0m\u001b[0m\n\u001b[0m\u001b[1;32m      2\u001b[0m \u001b[0mtop_times_uniq_names\u001b[0m\u001b[0;34m.\u001b[0m\u001b[0mhead\u001b[0m\u001b[0;34m(\u001b[0m\u001b[0;34m)\u001b[0m\u001b[0;34m\u001b[0m\u001b[0;34m\u001b[0m\u001b[0m\n",
      "\u001b[0;31mNameError\u001b[0m: name 'top_times' is not defined"
     ]
    }
   ],
   "source": [
    "top_times_uniq_names = top_times.drop_duplicates(subset=[\"full_name\", \"event_desc\"])\n",
    "top_times_uniq_names.head()"
   ]
  },
  {
   "cell_type": "code",
   "execution_count": 3,
   "metadata": {
    "colab": {},
    "colab_type": "code",
    "id": "eNPm_c31-UKo"
   },
   "outputs": [],
   "source": [
    "top_times_uniq_names = top_times_uniq_names[~top_times_uniq_names[\"swim_time_formatted\"].str.contains('CM')]"
   ]
  },
  {
   "cell_type": "code",
   "execution_count": 4,
   "metadata": {
    "colab": {},
    "colab_type": "code",
    "id": "5FRz7gT_-UKt"
   },
   "outputs": [],
   "source": [
    "def time_to_ml(row):\n",
    "    time = row[\"swim_time_formatted\"].strip(\"r\")\n",
    "    minutes = 0\n",
    "    if \":\" in time:\n",
    "        minutes, time = time.split(\":\")\n",
    "    try:\n",
    "        seconds, hundredths = time.split(\".\")\n",
    "    except:\n",
    "        print(time)\n",
    "    return int(minutes) * 60 * 1000 + int(seconds) * 1000 + int(hundredths) * 10\n",
    "\n",
    "top_times_uniq_names[\"swim_time_formatted\"] = top_times_uniq_names.apply(time_to_ml, axis=1)"
   ]
  },
  {
   "cell_type": "code",
   "execution_count": 5,
   "metadata": {
    "colab": {
     "base_uri": "https://localhost:8080/",
     "height": 333
    },
    "colab_type": "code",
    "id": "5lcMOlXh-UK0",
    "outputId": "f199a840-5ae6-40cb-aea8-f01230000738"
   },
   "outputs": [
    {
     "name": "stdout",
     "output_type": "stream",
     "text": [
      "(76728, 54)\n"
     ]
    },
    {
     "data": {
      "text/html": [
       "<div>\n",
       "<style scoped>\n",
       "    .dataframe tbody tr th:only-of-type {\n",
       "        vertical-align: middle;\n",
       "    }\n",
       "\n",
       "    .dataframe tbody tr th {\n",
       "        vertical-align: top;\n",
       "    }\n",
       "\n",
       "    .dataframe thead th {\n",
       "        text-align: right;\n",
       "    }\n",
       "</style>\n",
       "<table border=\"1\" class=\"dataframe\">\n",
       "  <thead>\n",
       "    <tr style=\"text-align: right;\">\n",
       "      <th>event_desc</th>\n",
       "      <th>full_name</th>\n",
       "      <th>100 BK LCM</th>\n",
       "      <th>100 BK SCM</th>\n",
       "      <th>100 BK SCY</th>\n",
       "      <th>100 BR LCM</th>\n",
       "      <th>100 BR SCM</th>\n",
       "      <th>100 BR SCY</th>\n",
       "      <th>100 FL LCM</th>\n",
       "      <th>100 FL SCM</th>\n",
       "      <th>100 FL SCY</th>\n",
       "      <th>...</th>\n",
       "      <th>50 BR SCY</th>\n",
       "      <th>50 FL LCM</th>\n",
       "      <th>50 FL SCM</th>\n",
       "      <th>50 FL SCY</th>\n",
       "      <th>50 FR LCM</th>\n",
       "      <th>50 FR SCM</th>\n",
       "      <th>50 FR SCY</th>\n",
       "      <th>500 FR SCY</th>\n",
       "      <th>800 FR LCM</th>\n",
       "      <th>800 FR SCM</th>\n",
       "    </tr>\n",
       "  </thead>\n",
       "  <tbody>\n",
       "    <tr>\n",
       "      <th>0</th>\n",
       "      <td>ASAKAWA, Tiago</td>\n",
       "      <td>NaN</td>\n",
       "      <td>NaN</td>\n",
       "      <td>NaN</td>\n",
       "      <td>NaN</td>\n",
       "      <td>NaN</td>\n",
       "      <td>58900.0</td>\n",
       "      <td>NaN</td>\n",
       "      <td>NaN</td>\n",
       "      <td>50830.0</td>\n",
       "      <td>...</td>\n",
       "      <td>NaN</td>\n",
       "      <td>NaN</td>\n",
       "      <td>NaN</td>\n",
       "      <td>NaN</td>\n",
       "      <td>NaN</td>\n",
       "      <td>NaN</td>\n",
       "      <td>20290.0</td>\n",
       "      <td>NaN</td>\n",
       "      <td>NaN</td>\n",
       "      <td>NaN</td>\n",
       "    </tr>\n",
       "    <tr>\n",
       "      <th>1</th>\n",
       "      <td>AXIOTIS, Alex</td>\n",
       "      <td>NaN</td>\n",
       "      <td>NaN</td>\n",
       "      <td>NaN</td>\n",
       "      <td>67290.0</td>\n",
       "      <td>NaN</td>\n",
       "      <td>NaN</td>\n",
       "      <td>NaN</td>\n",
       "      <td>NaN</td>\n",
       "      <td>NaN</td>\n",
       "      <td>...</td>\n",
       "      <td>NaN</td>\n",
       "      <td>NaN</td>\n",
       "      <td>NaN</td>\n",
       "      <td>NaN</td>\n",
       "      <td>NaN</td>\n",
       "      <td>NaN</td>\n",
       "      <td>NaN</td>\n",
       "      <td>NaN</td>\n",
       "      <td>NaN</td>\n",
       "      <td>NaN</td>\n",
       "    </tr>\n",
       "    <tr>\n",
       "      <th>2</th>\n",
       "      <td>Aaby, Kara</td>\n",
       "      <td>NaN</td>\n",
       "      <td>NaN</td>\n",
       "      <td>NaN</td>\n",
       "      <td>NaN</td>\n",
       "      <td>NaN</td>\n",
       "      <td>NaN</td>\n",
       "      <td>NaN</td>\n",
       "      <td>NaN</td>\n",
       "      <td>NaN</td>\n",
       "      <td>...</td>\n",
       "      <td>NaN</td>\n",
       "      <td>NaN</td>\n",
       "      <td>NaN</td>\n",
       "      <td>NaN</td>\n",
       "      <td>NaN</td>\n",
       "      <td>NaN</td>\n",
       "      <td>NaN</td>\n",
       "      <td>NaN</td>\n",
       "      <td>NaN</td>\n",
       "      <td>NaN</td>\n",
       "    </tr>\n",
       "    <tr>\n",
       "      <th>3</th>\n",
       "      <td>Aakhus, Randy</td>\n",
       "      <td>62060.0</td>\n",
       "      <td>NaN</td>\n",
       "      <td>49380.0</td>\n",
       "      <td>69880.0</td>\n",
       "      <td>NaN</td>\n",
       "      <td>58990.0</td>\n",
       "      <td>58480.0</td>\n",
       "      <td>NaN</td>\n",
       "      <td>49150.0</td>\n",
       "      <td>...</td>\n",
       "      <td>NaN</td>\n",
       "      <td>NaN</td>\n",
       "      <td>NaN</td>\n",
       "      <td>23610.0</td>\n",
       "      <td>NaN</td>\n",
       "      <td>NaN</td>\n",
       "      <td>NaN</td>\n",
       "      <td>272090.0</td>\n",
       "      <td>NaN</td>\n",
       "      <td>NaN</td>\n",
       "    </tr>\n",
       "    <tr>\n",
       "      <th>4</th>\n",
       "      <td>Aalbu, Connor</td>\n",
       "      <td>NaN</td>\n",
       "      <td>NaN</td>\n",
       "      <td>NaN</td>\n",
       "      <td>NaN</td>\n",
       "      <td>NaN</td>\n",
       "      <td>NaN</td>\n",
       "      <td>NaN</td>\n",
       "      <td>NaN</td>\n",
       "      <td>NaN</td>\n",
       "      <td>...</td>\n",
       "      <td>NaN</td>\n",
       "      <td>NaN</td>\n",
       "      <td>43640.0</td>\n",
       "      <td>NaN</td>\n",
       "      <td>NaN</td>\n",
       "      <td>NaN</td>\n",
       "      <td>NaN</td>\n",
       "      <td>NaN</td>\n",
       "      <td>NaN</td>\n",
       "      <td>NaN</td>\n",
       "    </tr>\n",
       "  </tbody>\n",
       "</table>\n",
       "<p>5 rows × 54 columns</p>\n",
       "</div>"
      ],
      "text/plain": [
       "event_desc       full_name  100 BK LCM  100 BK SCM  100 BK SCY  100 BR LCM  \\\n",
       "0           ASAKAWA, Tiago         NaN         NaN         NaN         NaN   \n",
       "1            AXIOTIS, Alex         NaN         NaN         NaN     67290.0   \n",
       "2               Aaby, Kara         NaN         NaN         NaN         NaN   \n",
       "3            Aakhus, Randy     62060.0         NaN     49380.0     69880.0   \n",
       "4            Aalbu, Connor         NaN         NaN         NaN         NaN   \n",
       "\n",
       "event_desc  100 BR SCM  100 BR SCY  100 FL LCM  100 FL SCM  100 FL SCY  ...  \\\n",
       "0                  NaN     58900.0         NaN         NaN     50830.0  ...   \n",
       "1                  NaN         NaN         NaN         NaN         NaN  ...   \n",
       "2                  NaN         NaN         NaN         NaN         NaN  ...   \n",
       "3                  NaN     58990.0     58480.0         NaN     49150.0  ...   \n",
       "4                  NaN         NaN         NaN         NaN         NaN  ...   \n",
       "\n",
       "event_desc  50 BR SCY  50 FL LCM  50 FL SCM  50 FL SCY  50 FR LCM  50 FR SCM  \\\n",
       "0                 NaN        NaN        NaN        NaN        NaN        NaN   \n",
       "1                 NaN        NaN        NaN        NaN        NaN        NaN   \n",
       "2                 NaN        NaN        NaN        NaN        NaN        NaN   \n",
       "3                 NaN        NaN        NaN    23610.0        NaN        NaN   \n",
       "4                 NaN        NaN    43640.0        NaN        NaN        NaN   \n",
       "\n",
       "event_desc  50 FR SCY  500 FR SCY  800 FR LCM  800 FR SCM  \n",
       "0             20290.0         NaN         NaN         NaN  \n",
       "1                 NaN         NaN         NaN         NaN  \n",
       "2                 NaN         NaN         NaN         NaN  \n",
       "3                 NaN    272090.0         NaN         NaN  \n",
       "4                 NaN         NaN         NaN         NaN  \n",
       "\n",
       "[5 rows x 54 columns]"
      ]
     },
     "execution_count": 5,
     "metadata": {},
     "output_type": "execute_result"
    }
   ],
   "source": [
    "individual_results = pd.pivot_table(\n",
    "    top_times_uniq_names,\n",
    "    index=[\"full_name\"], \n",
    "    columns=\"event_desc\", \n",
    "    values=\"swim_time_formatted\"\n",
    ")\n",
    "\n",
    "\n",
    "individual_results = individual_results.reset_index()\n",
    "print(individual_results.shape)\n",
    "individual_results.head()"
   ]
  },
  {
   "cell_type": "code",
   "execution_count": 6,
   "metadata": {
    "colab": {
     "base_uri": "https://localhost:8080/",
     "height": 1000
    },
    "colab_type": "code",
    "id": "2qUkEfxG-UK6",
    "outputId": "51e5f160-893f-4a8e-e99a-5c2fb1c6f2fa"
   },
   "outputs": [
    {
     "data": {
      "text/html": [
       "<div>\n",
       "<style scoped>\n",
       "    .dataframe tbody tr th:only-of-type {\n",
       "        vertical-align: middle;\n",
       "    }\n",
       "\n",
       "    .dataframe tbody tr th {\n",
       "        vertical-align: top;\n",
       "    }\n",
       "\n",
       "    .dataframe thead th {\n",
       "        text-align: right;\n",
       "    }\n",
       "</style>\n",
       "<table border=\"1\" class=\"dataframe\">\n",
       "  <thead>\n",
       "    <tr style=\"text-align: right;\">\n",
       "      <th></th>\n",
       "      <th>17406</th>\n",
       "    </tr>\n",
       "    <tr>\n",
       "      <th>event_desc</th>\n",
       "      <th></th>\n",
       "    </tr>\n",
       "  </thead>\n",
       "  <tbody>\n",
       "    <tr>\n",
       "      <th>full_name</th>\n",
       "      <td>Dressel, Caeleb</td>\n",
       "    </tr>\n",
       "    <tr>\n",
       "      <th>100 BK LCM</th>\n",
       "      <td>55800</td>\n",
       "    </tr>\n",
       "    <tr>\n",
       "      <th>100 BK SCM</th>\n",
       "      <td>NaN</td>\n",
       "    </tr>\n",
       "    <tr>\n",
       "      <th>100 BK SCY</th>\n",
       "      <td>48490</td>\n",
       "    </tr>\n",
       "    <tr>\n",
       "      <th>100 BR LCM</th>\n",
       "      <td>61220</td>\n",
       "    </tr>\n",
       "    <tr>\n",
       "      <th>100 BR SCM</th>\n",
       "      <td>NaN</td>\n",
       "    </tr>\n",
       "    <tr>\n",
       "      <th>100 BR SCY</th>\n",
       "      <td>50030</td>\n",
       "    </tr>\n",
       "    <tr>\n",
       "      <th>100 FL LCM</th>\n",
       "      <td>49050</td>\n",
       "    </tr>\n",
       "    <tr>\n",
       "      <th>100 FL SCM</th>\n",
       "      <td>48710</td>\n",
       "    </tr>\n",
       "    <tr>\n",
       "      <th>100 FL SCY</th>\n",
       "      <td>42800</td>\n",
       "    </tr>\n",
       "    <tr>\n",
       "      <th>100 FR LCM</th>\n",
       "      <td>46960</td>\n",
       "    </tr>\n",
       "    <tr>\n",
       "      <th>100 FR SCM</th>\n",
       "      <td>45220</td>\n",
       "    </tr>\n",
       "    <tr>\n",
       "      <th>100 FR SCY</th>\n",
       "      <td>39900</td>\n",
       "    </tr>\n",
       "    <tr>\n",
       "      <th>100 IM SCM</th>\n",
       "      <td>NaN</td>\n",
       "    </tr>\n",
       "    <tr>\n",
       "      <th>100 IM SCY</th>\n",
       "      <td>NaN</td>\n",
       "    </tr>\n",
       "    <tr>\n",
       "      <th>1000 FR SCY</th>\n",
       "      <td>NaN</td>\n",
       "    </tr>\n",
       "    <tr>\n",
       "      <th>1500 FR LCM</th>\n",
       "      <td>NaN</td>\n",
       "    </tr>\n",
       "    <tr>\n",
       "      <th>1500 FR SCM</th>\n",
       "      <td>NaN</td>\n",
       "    </tr>\n",
       "    <tr>\n",
       "      <th>1650 FR SCY</th>\n",
       "      <td>NaN</td>\n",
       "    </tr>\n",
       "    <tr>\n",
       "      <th>200 BK LCM</th>\n",
       "      <td>NaN</td>\n",
       "    </tr>\n",
       "    <tr>\n",
       "      <th>200 BK SCM</th>\n",
       "      <td>NaN</td>\n",
       "    </tr>\n",
       "    <tr>\n",
       "      <th>200 BK SCY</th>\n",
       "      <td>104870</td>\n",
       "    </tr>\n",
       "    <tr>\n",
       "      <th>200 BR LCM</th>\n",
       "      <td>NaN</td>\n",
       "    </tr>\n",
       "    <tr>\n",
       "      <th>200 BR SCM</th>\n",
       "      <td>NaN</td>\n",
       "    </tr>\n",
       "    <tr>\n",
       "      <th>200 BR SCY</th>\n",
       "      <td>126560</td>\n",
       "    </tr>\n",
       "    <tr>\n",
       "      <th>200 FL LCM</th>\n",
       "      <td>116290</td>\n",
       "    </tr>\n",
       "    <tr>\n",
       "      <th>200 FL SCM</th>\n",
       "      <td>NaN</td>\n",
       "    </tr>\n",
       "    <tr>\n",
       "      <th>200 FL SCY</th>\n",
       "      <td>107630</td>\n",
       "    </tr>\n",
       "    <tr>\n",
       "      <th>200 FR LCM</th>\n",
       "      <td>107310</td>\n",
       "    </tr>\n",
       "    <tr>\n",
       "      <th>200 FR SCM</th>\n",
       "      <td>NaN</td>\n",
       "    </tr>\n",
       "    <tr>\n",
       "      <th>200 FR SCY</th>\n",
       "      <td>93420</td>\n",
       "    </tr>\n",
       "    <tr>\n",
       "      <th>200 IM LCM</th>\n",
       "      <td>119970</td>\n",
       "    </tr>\n",
       "    <tr>\n",
       "      <th>200 IM SCM</th>\n",
       "      <td>NaN</td>\n",
       "    </tr>\n",
       "    <tr>\n",
       "      <th>200 IM SCY</th>\n",
       "      <td>98130</td>\n",
       "    </tr>\n",
       "    <tr>\n",
       "      <th>400 FR LCM</th>\n",
       "      <td>240060</td>\n",
       "    </tr>\n",
       "    <tr>\n",
       "      <th>400 FR SCM</th>\n",
       "      <td>NaN</td>\n",
       "    </tr>\n",
       "    <tr>\n",
       "      <th>400 IM LCM</th>\n",
       "      <td>295200</td>\n",
       "    </tr>\n",
       "    <tr>\n",
       "      <th>400 IM SCM</th>\n",
       "      <td>NaN</td>\n",
       "    </tr>\n",
       "    <tr>\n",
       "      <th>400 IM SCY</th>\n",
       "      <td>228840</td>\n",
       "    </tr>\n",
       "    <tr>\n",
       "      <th>50 BK LCM</th>\n",
       "      <td>27980</td>\n",
       "    </tr>\n",
       "    <tr>\n",
       "      <th>50 BK SCM</th>\n",
       "      <td>NaN</td>\n",
       "    </tr>\n",
       "    <tr>\n",
       "      <th>50 BK SCY</th>\n",
       "      <td>21750</td>\n",
       "    </tr>\n",
       "    <tr>\n",
       "      <th>50 BR LCM</th>\n",
       "      <td>27890</td>\n",
       "    </tr>\n",
       "    <tr>\n",
       "      <th>50 BR SCM</th>\n",
       "      <td>26890</td>\n",
       "    </tr>\n",
       "    <tr>\n",
       "      <th>50 BR SCY</th>\n",
       "      <td>NaN</td>\n",
       "    </tr>\n",
       "    <tr>\n",
       "      <th>50 FL LCM</th>\n",
       "      <td>22350</td>\n",
       "    </tr>\n",
       "    <tr>\n",
       "      <th>50 FL SCM</th>\n",
       "      <td>22060</td>\n",
       "    </tr>\n",
       "    <tr>\n",
       "      <th>50 FL SCY</th>\n",
       "      <td>NaN</td>\n",
       "    </tr>\n",
       "    <tr>\n",
       "      <th>50 FR LCM</th>\n",
       "      <td>21040</td>\n",
       "    </tr>\n",
       "    <tr>\n",
       "      <th>50 FR SCM</th>\n",
       "      <td>20240</td>\n",
       "    </tr>\n",
       "    <tr>\n",
       "      <th>50 FR SCY</th>\n",
       "      <td>17630</td>\n",
       "    </tr>\n",
       "    <tr>\n",
       "      <th>500 FR SCY</th>\n",
       "      <td>282220</td>\n",
       "    </tr>\n",
       "    <tr>\n",
       "      <th>800 FR LCM</th>\n",
       "      <td>NaN</td>\n",
       "    </tr>\n",
       "    <tr>\n",
       "      <th>800 FR SCM</th>\n",
       "      <td>NaN</td>\n",
       "    </tr>\n",
       "  </tbody>\n",
       "</table>\n",
       "</div>"
      ],
      "text/plain": [
       "                       17406\n",
       "event_desc                  \n",
       "full_name    Dressel, Caeleb\n",
       "100 BK LCM             55800\n",
       "100 BK SCM               NaN\n",
       "100 BK SCY             48490\n",
       "100 BR LCM             61220\n",
       "100 BR SCM               NaN\n",
       "100 BR SCY             50030\n",
       "100 FL LCM             49050\n",
       "100 FL SCM             48710\n",
       "100 FL SCY             42800\n",
       "100 FR LCM             46960\n",
       "100 FR SCM             45220\n",
       "100 FR SCY             39900\n",
       "100 IM SCM               NaN\n",
       "100 IM SCY               NaN\n",
       "1000 FR SCY              NaN\n",
       "1500 FR LCM              NaN\n",
       "1500 FR SCM              NaN\n",
       "1650 FR SCY              NaN\n",
       "200 BK LCM               NaN\n",
       "200 BK SCM               NaN\n",
       "200 BK SCY            104870\n",
       "200 BR LCM               NaN\n",
       "200 BR SCM               NaN\n",
       "200 BR SCY            126560\n",
       "200 FL LCM            116290\n",
       "200 FL SCM               NaN\n",
       "200 FL SCY            107630\n",
       "200 FR LCM            107310\n",
       "200 FR SCM               NaN\n",
       "200 FR SCY             93420\n",
       "200 IM LCM            119970\n",
       "200 IM SCM               NaN\n",
       "200 IM SCY             98130\n",
       "400 FR LCM            240060\n",
       "400 FR SCM               NaN\n",
       "400 IM LCM            295200\n",
       "400 IM SCM               NaN\n",
       "400 IM SCY            228840\n",
       "50 BK LCM              27980\n",
       "50 BK SCM                NaN\n",
       "50 BK SCY              21750\n",
       "50 BR LCM              27890\n",
       "50 BR SCM              26890\n",
       "50 BR SCY                NaN\n",
       "50 FL LCM              22350\n",
       "50 FL SCM              22060\n",
       "50 FL SCY                NaN\n",
       "50 FR LCM              21040\n",
       "50 FR SCM              20240\n",
       "50 FR SCY              17630\n",
       "500 FR SCY            282220\n",
       "800 FR LCM               NaN\n",
       "800 FR SCM               NaN"
      ]
     },
     "execution_count": 6,
     "metadata": {},
     "output_type": "execute_result"
    }
   ],
   "source": [
    "individual_results[individual_results[\"full_name\"] == \"Dressel, Caeleb\"].T"
   ]
  },
  {
   "cell_type": "code",
   "execution_count": 7,
   "metadata": {
    "colab": {
     "base_uri": "https://localhost:8080/",
     "height": 212
    },
    "colab_type": "code",
    "id": "ZIMnx4Xl-UK_",
    "outputId": "333349a2-18d8-4d55-bc52-3f03a9783e8b"
   },
   "outputs": [
    {
     "name": "stdout",
     "output_type": "stream",
     "text": [
      "(5073, 3)\n"
     ]
    },
    {
     "data": {
      "text/html": [
       "<div>\n",
       "<style scoped>\n",
       "    .dataframe tbody tr th:only-of-type {\n",
       "        vertical-align: middle;\n",
       "    }\n",
       "\n",
       "    .dataframe tbody tr th {\n",
       "        vertical-align: top;\n",
       "    }\n",
       "\n",
       "    .dataframe thead th {\n",
       "        text-align: right;\n",
       "    }\n",
       "</style>\n",
       "<table border=\"1\" class=\"dataframe\">\n",
       "  <thead>\n",
       "    <tr style=\"text-align: right;\">\n",
       "      <th>event_desc</th>\n",
       "      <th>full_name</th>\n",
       "      <th>100 FR LCM</th>\n",
       "      <th>100 FR SCY</th>\n",
       "    </tr>\n",
       "  </thead>\n",
       "  <tbody>\n",
       "    <tr>\n",
       "      <th>7</th>\n",
       "      <td>Aarons, Brent</td>\n",
       "      <td>53580.0</td>\n",
       "      <td>46810.0</td>\n",
       "    </tr>\n",
       "    <tr>\n",
       "      <th>23</th>\n",
       "      <td>Abaqueta, Cam</td>\n",
       "      <td>53050.0</td>\n",
       "      <td>45730.0</td>\n",
       "    </tr>\n",
       "    <tr>\n",
       "      <th>27</th>\n",
       "      <td>Abbas, Austin</td>\n",
       "      <td>54440.0</td>\n",
       "      <td>46630.0</td>\n",
       "    </tr>\n",
       "    <tr>\n",
       "      <th>37</th>\n",
       "      <td>Abbott, Danny</td>\n",
       "      <td>53290.0</td>\n",
       "      <td>46550.0</td>\n",
       "    </tr>\n",
       "    <tr>\n",
       "      <th>44</th>\n",
       "      <td>Abboud, Brandon</td>\n",
       "      <td>54020.0</td>\n",
       "      <td>45710.0</td>\n",
       "    </tr>\n",
       "  </tbody>\n",
       "</table>\n",
       "</div>"
      ],
      "text/plain": [
       "event_desc        full_name  100 FR LCM  100 FR SCY\n",
       "7             Aarons, Brent     53580.0     46810.0\n",
       "23            Abaqueta, Cam     53050.0     45730.0\n",
       "27            Abbas, Austin     54440.0     46630.0\n",
       "37            Abbott, Danny     53290.0     46550.0\n",
       "44          Abboud, Brandon     54020.0     45710.0"
      ]
     },
     "execution_count": 7,
     "metadata": {},
     "output_type": "execute_result"
    }
   ],
   "source": [
    "import numpy as np\n",
    "\n",
    "# predict times for event2 using times from event1\n",
    "\n",
    "def mask_for_events(df, *args):\n",
    "    mask = np.array([True] * df.shape[0])\n",
    "    for arg in args:\n",
    "        mask = mask & ~np.isnan(df[arg])\n",
    "    return mask\n",
    "    \n",
    "\n",
    "features = [\"100 FR SCY\"]\n",
    "target = \"100 FR LCM\"\n",
    "\n",
    "mask = mask_for_events(individual_results, target, *features)\n",
    "fr_50 = individual_results[mask][['full_name', target] + features]\n",
    "\n",
    "print(fr_50.shape)\n",
    "fr_50.head()"
   ]
  },
  {
   "cell_type": "code",
   "execution_count": 8,
   "metadata": {
    "colab": {
     "base_uri": "https://localhost:8080/",
     "height": 280
    },
    "colab_type": "code",
    "id": "pSysSBWExQx5",
    "outputId": "6dde3541-bc3c-4675-929b-56a6071871f4"
   },
   "outputs": [
    {
     "data": {
      "image/png": "[encoded data removed]",
      "text/plain": [
       "<Figure size 432x288 with 1 Axes>"
      ]
     },
     "metadata": {
      "needs_background": "light"
     },
     "output_type": "display_data"
    }
   ],
   "source": [
    "import seaborn as sns\n",
    "\n",
    "sns.distplot(top_times_uniq_names[\"swimmer_age\"], kde=False);"
   ]
  },
  {
   "cell_type": "code",
   "execution_count": 9,
   "metadata": {
    "colab": {
     "base_uri": "https://localhost:8080/",
     "height": 34
    },
    "colab_type": "code",
    "id": "g21OjskmtZw9",
    "outputId": "a6e21128-bfb2-4946-dc9f-9d35c32b036d"
   },
   "outputs": [
    {
     "name": "stdout",
     "output_type": "stream",
     "text": [
      "Baseline mae: 5801.390222747886\n"
     ]
    }
   ],
   "source": [
    "from sklearn.metrics import mean_absolute_error\n",
    "\n",
    "X_train = fr_50[features]\n",
    "y_train = fr_50[target]\n",
    "\n",
    "def scy_to_lcm(t):\n",
    "  '''\n",
    "  Linear equation used by classic conversion utility found at\n",
    "  https://swimswam.com/swimming-times-conversion-tool/?type=classic\n",
    "  '''\n",
    "  return t * 1.11 + 1.60\n",
    "\n",
    "mae = mean_absolute_error(y_train, y_train.apply(scy_to_lcm))\n",
    "print(\"Baseline mae:\", mae)"
   ]
  },
  {
   "cell_type": "code",
   "execution_count": 10,
   "metadata": {
    "colab": {
     "base_uri": "https://localhost:8080/",
     "height": 265
    },
    "colab_type": "code",
    "id": "XcMr5u11usaA",
    "outputId": "8ef4777d-b8d8-47b4-a408-55ae99447c98"
   },
   "outputs": [
    {
     "data": {
      "image/png": "[encoded data removed]",
      "text/plain": [
       "<Figure size 432x288 with 1 Axes>"
      ]
     },
     "metadata": {
      "needs_background": "light"
     },
     "output_type": "display_data"
    }
   ],
   "source": [
    "import seaborn as sns\n",
    "\n",
    "sns.distplot(X_train);"
   ]
  },
  {
   "cell_type": "code",
   "execution_count": 11,
   "metadata": {
    "colab": {
     "base_uri": "https://localhost:8080/",
     "height": 34
    },
    "colab_type": "code",
    "id": "U4lNHjBt-0Zo",
    "outputId": "d5cb5797-dbde-4e38-8ba6-5c3676d2171a"
   },
   "outputs": [
    {
     "name": "stdout",
     "output_type": "stream",
     "text": [
      "Linear Regression mae: 608.9016126489743\n"
     ]
    }
   ],
   "source": [
    "from sklearn.linear_model import LinearRegression\n",
    "\n",
    "reg = LinearRegression().fit(X_train, y_train)\n",
    "print(\"Linear Regression mae:\", mean_absolute_error(y_train, reg.predict(X_train)))"
   ]
  },
  {
   "cell_type": "code",
   "execution_count": 12,
   "metadata": {
    "colab": {
     "base_uri": "https://localhost:8080/",
     "height": 34
    },
    "colab_type": "code",
    "id": "UPxwrC7sx6QN",
    "outputId": "45f18b2c-c5e3-484c-e085-caad5595b47e"
   },
   "outputs": [
    {
     "name": "stdout",
     "output_type": "stream",
     "text": [
      "Random Forest Regressor mae: 569.2530615847825\n"
     ]
    }
   ],
   "source": [
    "from sklearn.ensemble import RandomForestRegressor\n",
    "\n",
    "reg = RandomForestRegressor().fit(X_train, y_train)\n",
    "print(\"Random Forest Regressor mae:\", mean_absolute_error(y_train, reg.predict(X_train)))"
   ]
  },
  {
   "cell_type": "code",
   "execution_count": 22,
   "metadata": {},
   "outputs": [],
   "source": [
    "import pickle\n",
    "\n",
    "filename = 'model.sav'\n",
    "with open(filename, 'wb') as f:\n",
    "    pickle.dump(reg, f)"
   ]
  },
  {
   "cell_type": "code",
   "execution_count": 13,
   "metadata": {
    "colab": {
     "base_uri": "https://localhost:8080/",
     "height": 67
    },
    "colab_type": "code",
    "id": "nK7oZPPZ1n0z",
    "outputId": "80eb51db-d979-4f9b-b60f-12f1c584b2fd"
   },
   "outputs": [
    {
     "name": "stdout",
     "output_type": "stream",
     "text": [
      "1.1366666666666667\n",
      "1.1277777777777778\n",
      "1.1233333333333335\n"
     ]
    }
   ],
   "source": [
    "def find_conversion(t1, t2):\n",
    "  return t2 / t1\n",
    "\n",
    "print(find_conversion(60, 68.2))\n",
    "print(find_conversion(90, 101.5))\n",
    "print(find_conversion(120, 134.8))"
   ]
  },
  {
   "cell_type": "code",
   "execution_count": 14,
   "metadata": {
    "colab": {
     "base_uri": "https://localhost:8080/",
     "height": 34
    },
    "colab_type": "code",
    "id": "xOtCpsse2uI4",
    "outputId": "60aa4244-05fd-4806-fbea-16c9d8c20285"
   },
   "outputs": [
    {
     "data": {
      "text/plain": [
       "1.11"
      ]
     },
     "execution_count": 14,
     "metadata": {},
     "output_type": "execute_result"
    }
   ],
   "source": [
    "x1 = 60\n",
    "y1 = 68.2\n",
    "x2 = 120\n",
    "y2 = 134.8\n",
    "\n",
    "(y2 - y1) / (x2 - x1)"
   ]
  },
  {
   "cell_type": "code",
   "execution_count": 15,
   "metadata": {
    "colab": {
     "base_uri": "https://localhost:8080/",
     "height": 34
    },
    "colab_type": "code",
    "id": "jDFp2GVc6CyP",
    "outputId": "ad0b9ad3-0be7-4092-9445-8254e96c530c"
   },
   "outputs": [
    {
     "data": {
      "text/plain": [
       "1.5999999999999943"
      ]
     },
     "execution_count": 15,
     "metadata": {},
     "output_type": "execute_result"
    }
   ],
   "source": [
    "68.2 - x1 * 1.11"
   ]
  },
  {
   "cell_type": "code",
   "execution_count": 16,
   "metadata": {
    "colab": {
     "base_uri": "https://localhost:8080/",
     "height": 34
    },
    "colab_type": "code",
    "id": "eJQHU6ca7o_t",
    "outputId": "0a8497db-1ef4-4133-a538-4ee0b9c5ac83"
   },
   "outputs": [
    {
     "data": {
      "text/plain": [
       "134.8"
      ]
     },
     "execution_count": 16,
     "metadata": {},
     "output_type": "execute_result"
    }
   ],
   "source": [
    "scy_to_lcm(120)"
   ]
  },
  {
   "cell_type": "code",
   "execution_count": 17,
   "metadata": {
    "colab": {
     "base_uri": "https://localhost:8080/",
     "height": 34
    },
    "colab_type": "code",
    "id": "wHEJ8EKc81Dr",
    "outputId": "575a54aa-743d-464e-e2ce-03307d704db8"
   },
   "outputs": [
    {
     "data": {
      "text/plain": [
       "53.60630312750602"
      ]
     },
     "execution_count": 17,
     "metadata": {},
     "output_type": "execute_result"
    }
   ],
   "source": [
    "def find_eq(x1, y1, x2, y2):\n",
    "  m = (y2 - y1) / (x2 - x1)\n",
    "  b = y1 - x1 * m\n",
    "  def eq(t):\n",
    "    return t * m + b\n",
    "  return eq\n",
    "\n",
    "fr = find_eq(41.44, 47.96, 53.91, 62.3)\n",
    "fr(46.35)"
   ]
  },
  {
   "cell_type": "code",
   "execution_count": 18,
   "metadata": {
    "colab": {},
    "colab_type": "code",
    "id": "IPlsF71rAgwo"
   },
   "outputs": [],
   "source": [
    "times = [[41440, 47960],\n",
    "         [42430, 49220],\n",
    "         [43420, 50470],\n",
    "         [44020, 51210],\n",
    "         [44480, 51760],\n",
    "         [44870, 52220],\n",
    "         [45250, 52660],\n",
    "         [45610, 53080],\n",
    "         [45980, 53500],\n",
    "         [46350, 53910],\n",
    "         [46740, 54350],\n",
    "         [47140, 54790],\n",
    "         [47570, 55270],\n",
    "         [48020, 55770],\n",
    "         [48510, 56310],\n",
    "         [49050, 56910],\n",
    "         [49650, 57580],\n",
    "         [50340, 58350],\n",
    "         [51170, 59270],\n",
    "         [52250, 60460],\n",
    "         [53910, 62300]]\n",
    "\n",
    "times = np.array(times)"
   ]
  },
  {
   "cell_type": "code",
   "execution_count": 19,
   "metadata": {
    "colab": {
     "base_uri": "https://localhost:8080/",
     "height": 265
    },
    "colab_type": "code",
    "id": "LsaydchHKjol",
    "outputId": "ea56153c-b62b-4cb2-bcac-a659c6e2d522"
   },
   "outputs": [
    {
     "data": {
      "image/png": "[encoded data removed]",
      "text/plain": [
       "<Figure size 432x288 with 1 Axes>"
      ]
     },
     "metadata": {
      "needs_background": "light"
     },
     "output_type": "display_data"
    }
   ],
   "source": [
    "import matplotlib.pyplot as plt\n",
    "\n",
    "x, y = (times[:, i] for i in range(2))\n",
    "\n",
    "plt.plot(x,y);"
   ]
  },
  {
   "cell_type": "code",
   "execution_count": 20,
   "metadata": {
    "colab": {
     "base_uri": "https://localhost:8080/",
     "height": 50
    },
    "colab_type": "code",
    "id": "yxvHIgtEHfqX",
    "outputId": "5e11b3cc-23e4-4b2b-cf60-e69f7a8971d5"
   },
   "outputs": [
    {
     "name": "stdout",
     "output_type": "stream",
     "text": [
      "Linear Regression mae: 628.2314785033099\n"
     ]
    },
    {
     "data": {
      "text/plain": [
       "array([52988.86715917])"
      ]
     },
     "execution_count": 20,
     "metadata": {},
     "output_type": "execute_result"
    }
   ],
   "source": [
    "from sklearn.linear_model import LinearRegression\n",
    "\n",
    "reg = LinearRegression().fit(times[:, 0].reshape(-1,1), times[:, 1])\n",
    "print(\"Linear Regression mae:\", mean_absolute_error(y_train, reg.predict(X_train)))\n",
    "reg.predict(np.array(45610).reshape(-1,1))"
   ]
  },
  {
   "cell_type": "code",
   "execution_count": 21,
   "metadata": {
    "colab": {
     "base_uri": "https://localhost:8080/",
     "height": 34
    },
    "colab_type": "code",
    "id": "asKCny1LHyIm",
    "outputId": "796caa31-a3a2-4f66-c355-31867d165fe0"
   },
   "outputs": [
    {
     "data": {
      "text/plain": [
       "(array([1.137999]), 1084.7326979892678)"
      ]
     },
     "execution_count": 21,
     "metadata": {},
     "output_type": "execute_result"
    }
   ],
   "source": [
    "reg.coef_, reg.intercept_"
   ]
  },
  {
   "cell_type": "code",
   "execution_count": null,
   "metadata": {
    "colab": {},
    "colab_type": "code",
    "id": "1HknMAy-J-RG"
   },
   "outputs": [],
   "source": []
  }
 ],
 "metadata": {
  "colab": {
   "name": "Swim Time Conversions.ipynb",
   "provenance": []
  },
  "kernelspec": {
   "display_name": "Python 3",
   "language": "python",
   "name": "python3"
  },
  "language_info": {
   "codemirror_mode": {
    "name": "ipython",
    "version": 3
   },
   "file_extension": ".py",
   "mimetype": "text/x-python",
   "name": "python",
   "nbconvert_exporter": "python",
   "pygments_lexer": "ipython3",
   "version": "3.7.6"
  }
 },
 "nbformat": 4,
 "nbformat_minor": 1
}
